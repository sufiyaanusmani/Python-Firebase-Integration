{
  "nbformat": 4,
  "nbformat_minor": 0,
  "metadata": {
    "colab": {
      "provenance": []
    },
    "kernelspec": {
      "name": "python3",
      "display_name": "Python 3"
    },
    "language_info": {
      "name": "python"
    }
  },
  "cells": [
    {
      "cell_type": "code",
      "execution_count": 1,
      "metadata": {
        "id": "XTOTevupnJ3l"
      },
      "outputs": [],
      "source": [
        "import firebase_admin\n",
        "from firebase_admin import db, credentials"
      ]
    },
    {
      "cell_type": "code",
      "source": [
        "cred = credentials.Certificate(\"credentials.json\")\n",
        "firebase_admin.initialize_app(cred, {\"databaseURL\": \"**ENTER YOUR OWN DB URL**\"})"
      ],
      "metadata": {
        "colab": {
          "base_uri": "https://localhost:8080/"
        },
        "id": "3GHkglAFnYbv",
        "outputId": "46b5dbc4-fad7-4bc7-fb32-8c9560e46ae3"
      },
      "execution_count": 2,
      "outputs": [
        {
          "output_type": "execute_result",
          "data": {
            "text/plain": [
              "<firebase_admin.App at 0x79d6980f0c10>"
            ]
          },
          "metadata": {},
          "execution_count": 2
        }
      ]
    },
    {
      "cell_type": "code",
      "source": [
        "ref = db.reference(\"/\")"
      ],
      "metadata": {
        "id": "uPf_m8qLnsbL"
      },
      "execution_count": 3,
      "outputs": []
    },
    {
      "cell_type": "code",
      "source": [
        "ref.get()"
      ],
      "metadata": {
        "colab": {
          "base_uri": "https://localhost:8080/"
        },
        "id": "wm12Lt-_nyGG",
        "outputId": "f12da18b-9751-4131-f1ae-868d3087a6b7"
      },
      "execution_count": 4,
      "outputs": [
        {
          "output_type": "execute_result",
          "data": {
            "text/plain": [
              "{'language': 'Python', 'name': 'Sufiyaan Usmani', 'semester': 6}"
            ]
          },
          "metadata": {},
          "execution_count": 4
        }
      ]
    },
    {
      "cell_type": "code",
      "source": [
        "db.reference(\"/name\").get()"
      ],
      "metadata": {
        "colab": {
          "base_uri": "https://localhost:8080/",
          "height": 35
        },
        "id": "uSvKlM5ynyts",
        "outputId": "c3240f44-4ae2-4f86-ffae-e11c0973d212"
      },
      "execution_count": 5,
      "outputs": [
        {
          "output_type": "execute_result",
          "data": {
            "text/plain": [
              "'Sufiyaan Usmani'"
            ],
            "application/vnd.google.colaboratory.intrinsic+json": {
              "type": "string"
            }
          },
          "metadata": {},
          "execution_count": 5
        }
      ]
    },
    {
      "cell_type": "code",
      "source": [
        "db.reference(\"/age\").set(19)\n",
        "ref.get()"
      ],
      "metadata": {
        "colab": {
          "base_uri": "https://localhost:8080/"
        },
        "id": "zOr84ZDforhS",
        "outputId": "fa8c574b-bbef-40af-9705-c4fdd264f448"
      },
      "execution_count": 7,
      "outputs": [
        {
          "output_type": "execute_result",
          "data": {
            "text/plain": [
              "{'age': 19, 'language': 'Python', 'name': 'Sufiyaan Usmani', 'semester': 5}"
            ]
          },
          "metadata": {},
          "execution_count": 7
        }
      ]
    },
    {
      "cell_type": "code",
      "source": [
        "db.reference(\"/\").update({\"semester\": 6})\n",
        "ref.get()"
      ],
      "metadata": {
        "colab": {
          "base_uri": "https://localhost:8080/"
        },
        "id": "c_HMvH0Yo6mh",
        "outputId": "75b2db75-c5eb-47af-85de-0cdef80cbf61"
      },
      "execution_count": 8,
      "outputs": [
        {
          "output_type": "execute_result",
          "data": {
            "text/plain": [
              "{'age': 19, 'language': 'Python', 'name': 'Sufiyaan Usmani', 'semester': 6}"
            ]
          },
          "metadata": {},
          "execution_count": 8
        }
      ]
    },
    {
      "cell_type": "code",
      "source": [
        "db.reference(\"/students\").push({\"roll_no\": \"21K-3195\", \"name\": \"Sufiyaan Usmani\", \"cgpa\": 4.0})\n",
        "ref.get()"
      ],
      "metadata": {
        "colab": {
          "base_uri": "https://localhost:8080/"
        },
        "id": "NjX6KiaEpCAf",
        "outputId": "e74548e7-a2d9-444c-ce36-d582abc585fa"
      },
      "execution_count": 9,
      "outputs": [
        {
          "output_type": "execute_result",
          "data": {
            "text/plain": [
              "{'age': 19,\n",
              " 'language': 'Python',\n",
              " 'name': 'Sufiyaan Usmani',\n",
              " 'semester': 6,\n",
              " 'students': {'-NpGeGfl-4WIY5iViPUd': {'cgpa': 4.0,\n",
              "   'name': 'Sufiyaan Usmani',\n",
              "   'roll_no': '21K-3195'}}}"
            ]
          },
          "metadata": {},
          "execution_count": 9
        }
      ]
    }
  ]
}